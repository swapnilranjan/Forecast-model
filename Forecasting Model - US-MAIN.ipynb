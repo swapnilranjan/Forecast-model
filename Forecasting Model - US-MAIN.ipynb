{
 "cells": [
  {
   "cell_type": "code",
   "execution_count": 2,
   "id": "1bb7f03b",
   "metadata": {},
   "outputs": [],
   "source": [
    "# Importing packages\n",
    "\n",
    "import numpy as np # used for mathematical calculation \n",
    "import pandas as pd # Data manipulation and analysis\n",
    "import matplotlib.pyplot as plt # for visualisation and creating graphs\n",
    "from statsmodels.tsa.seasonal import seasonal_decompose # For time series forecasting (to break time series data into its seasonal, trend, and residual components)"
   ]
  },
  {
   "cell_type": "code",
   "execution_count": 1,
   "id": "1157478e",
   "metadata": {},
   "outputs": [
    {
     "ename": "NameError",
     "evalue": "name 'pd' is not defined",
     "output_type": "error",
     "traceback": [
      "\u001b[1;31m---------------------------------------------------------------------------\u001b[0m",
      "\u001b[1;31mNameError\u001b[0m                                 Traceback (most recent call last)",
      "\u001b[1;32m<ipython-input-1-8af657ba2975>\u001b[0m in \u001b[0;36m<module>\u001b[1;34m\u001b[0m\n\u001b[0;32m      1\u001b[0m \u001b[1;31m# Reading the raw data\u001b[0m\u001b[1;33m\u001b[0m\u001b[1;33m\u001b[0m\u001b[1;33m\u001b[0m\u001b[0m\n\u001b[0;32m      2\u001b[0m \u001b[1;33m\u001b[0m\u001b[0m\n\u001b[1;32m----> 3\u001b[1;33m df = pd.read_csv('us visits.csv',\n\u001b[0m\u001b[0;32m      4\u001b[0m                        \u001b[0mindex_col\u001b[0m \u001b[1;33m=\u001b[0m\u001b[1;34m'day'\u001b[0m\u001b[1;33m,\u001b[0m\u001b[1;33m\u001b[0m\u001b[1;33m\u001b[0m\u001b[0m\n\u001b[0;32m      5\u001b[0m                        parse_dates = True)\n",
      "\u001b[1;31mNameError\u001b[0m: name 'pd' is not defined"
     ]
    }
   ],
   "source": [
    "# Reading the raw data\n",
    "\n",
    "df = pd.read_csv('us visits.csv',\n",
    "                       index_col ='day',\n",
    "                       parse_dates = True)"
   ]
  },
  {
   "cell_type": "code",
   "execution_count": 3,
   "id": "7b71433a",
   "metadata": {},
   "outputs": [
    {
     "data": {
      "text/html": [
       "<div>\n",
       "<style scoped>\n",
       "    .dataframe tbody tr th:only-of-type {\n",
       "        vertical-align: middle;\n",
       "    }\n",
       "\n",
       "    .dataframe tbody tr th {\n",
       "        vertical-align: top;\n",
       "    }\n",
       "\n",
       "    .dataframe thead th {\n",
       "        text-align: right;\n",
       "    }\n",
       "</style>\n",
       "<table border=\"1\" class=\"dataframe\">\n",
       "  <thead>\n",
       "    <tr style=\"text-align: right;\">\n",
       "      <th></th>\n",
       "      <th>Visits</th>\n",
       "    </tr>\n",
       "    <tr>\n",
       "      <th>day</th>\n",
       "      <th></th>\n",
       "    </tr>\n",
       "  </thead>\n",
       "  <tbody>\n",
       "    <tr>\n",
       "      <th>2019-04-01</th>\n",
       "      <td>10334</td>\n",
       "    </tr>\n",
       "    <tr>\n",
       "      <th>2019-04-02</th>\n",
       "      <td>11562</td>\n",
       "    </tr>\n",
       "    <tr>\n",
       "      <th>2019-04-03</th>\n",
       "      <td>10215</td>\n",
       "    </tr>\n",
       "    <tr>\n",
       "      <th>2019-04-04</th>\n",
       "      <td>10158</td>\n",
       "    </tr>\n",
       "    <tr>\n",
       "      <th>2019-04-05</th>\n",
       "      <td>9110</td>\n",
       "    </tr>\n",
       "    <tr>\n",
       "      <th>...</th>\n",
       "      <td>...</td>\n",
       "    </tr>\n",
       "    <tr>\n",
       "      <th>2022-04-26</th>\n",
       "      <td>11660</td>\n",
       "    </tr>\n",
       "    <tr>\n",
       "      <th>2022-04-27</th>\n",
       "      <td>10601</td>\n",
       "    </tr>\n",
       "    <tr>\n",
       "      <th>2022-04-28</th>\n",
       "      <td>10350</td>\n",
       "    </tr>\n",
       "    <tr>\n",
       "      <th>2022-04-29</th>\n",
       "      <td>8803</td>\n",
       "    </tr>\n",
       "    <tr>\n",
       "      <th>2022-04-30</th>\n",
       "      <td>6602</td>\n",
       "    </tr>\n",
       "  </tbody>\n",
       "</table>\n",
       "<p>1126 rows × 1 columns</p>\n",
       "</div>"
      ],
      "text/plain": [
       "            Visits\n",
       "day               \n",
       "2019-04-01   10334\n",
       "2019-04-02   11562\n",
       "2019-04-03   10215\n",
       "2019-04-04   10158\n",
       "2019-04-05    9110\n",
       "...            ...\n",
       "2022-04-26   11660\n",
       "2022-04-27   10601\n",
       "2022-04-28   10350\n",
       "2022-04-29    8803\n",
       "2022-04-30    6602\n",
       "\n",
       "[1126 rows x 1 columns]"
      ]
     },
     "execution_count": 3,
     "metadata": {},
     "output_type": "execute_result"
    }
   ],
   "source": [
    "# checking the raw data\n",
    "\n",
    "df"
   ]
  },
  {
   "cell_type": "code",
   "execution_count": 20,
   "id": "fdf77285",
   "metadata": {},
   "outputs": [
    {
     "name": "stdout",
     "output_type": "stream",
     "text": [
      "<class 'pandas.core.frame.DataFrame'>\n",
      "DatetimeIndex: 1126 entries, 2019-04-01 to 2022-04-30\n",
      "Data columns (total 1 columns):\n",
      " #   Column  Non-Null Count  Dtype\n",
      "---  ------  --------------  -----\n",
      " 0   Visits  1126 non-null   int64\n",
      "dtypes: int64(1)\n",
      "memory usage: 17.6 KB\n"
     ]
    }
   ],
   "source": [
    "df.info()"
   ]
  },
  {
   "cell_type": "code",
   "execution_count": 21,
   "id": "102aa27e",
   "metadata": {},
   "outputs": [
    {
     "data": {
      "text/plain": [
       "(1126, 1)"
      ]
     },
     "execution_count": 21,
     "metadata": {},
     "output_type": "execute_result"
    }
   ],
   "source": [
    "df.shape"
   ]
  },
  {
   "cell_type": "code",
   "execution_count": 22,
   "id": "7b1e2962",
   "metadata": {},
   "outputs": [
    {
     "data": {
      "text/html": [
       "<div>\n",
       "<style scoped>\n",
       "    .dataframe tbody tr th:only-of-type {\n",
       "        vertical-align: middle;\n",
       "    }\n",
       "\n",
       "    .dataframe tbody tr th {\n",
       "        vertical-align: top;\n",
       "    }\n",
       "\n",
       "    .dataframe thead th {\n",
       "        text-align: right;\n",
       "    }\n",
       "</style>\n",
       "<table border=\"1\" class=\"dataframe\">\n",
       "  <thead>\n",
       "    <tr style=\"text-align: right;\">\n",
       "      <th></th>\n",
       "      <th>Visits</th>\n",
       "    </tr>\n",
       "  </thead>\n",
       "  <tbody>\n",
       "    <tr>\n",
       "      <th>count</th>\n",
       "      <td>1126.000000</td>\n",
       "    </tr>\n",
       "    <tr>\n",
       "      <th>mean</th>\n",
       "      <td>13182.533748</td>\n",
       "    </tr>\n",
       "    <tr>\n",
       "      <th>std</th>\n",
       "      <td>5039.221629</td>\n",
       "    </tr>\n",
       "    <tr>\n",
       "      <th>min</th>\n",
       "      <td>2689.000000</td>\n",
       "    </tr>\n",
       "    <tr>\n",
       "      <th>25%</th>\n",
       "      <td>10137.250000</td>\n",
       "    </tr>\n",
       "    <tr>\n",
       "      <th>50%</th>\n",
       "      <td>12304.000000</td>\n",
       "    </tr>\n",
       "    <tr>\n",
       "      <th>75%</th>\n",
       "      <td>14889.000000</td>\n",
       "    </tr>\n",
       "    <tr>\n",
       "      <th>max</th>\n",
       "      <td>49160.000000</td>\n",
       "    </tr>\n",
       "  </tbody>\n",
       "</table>\n",
       "</div>"
      ],
      "text/plain": [
       "             Visits\n",
       "count   1126.000000\n",
       "mean   13182.533748\n",
       "std     5039.221629\n",
       "min     2689.000000\n",
       "25%    10137.250000\n",
       "50%    12304.000000\n",
       "75%    14889.000000\n",
       "max    49160.000000"
      ]
     },
     "execution_count": 22,
     "metadata": {},
     "output_type": "execute_result"
    }
   ],
   "source": [
    "df.describe()"
   ]
  },
  {
   "cell_type": "code",
   "execution_count": 23,
   "id": "6c2cbd2d",
   "metadata": {},
   "outputs": [
    {
     "data": {
      "text/plain": [
       "1126"
      ]
     },
     "execution_count": 23,
     "metadata": {},
     "output_type": "execute_result"
    }
   ],
   "source": [
    "df.size"
   ]
  },
  {
   "cell_type": "code",
   "execution_count": 4,
   "id": "6fa6980f",
   "metadata": {},
   "outputs": [
    {
     "name": "stdout",
     "output_type": "stream",
     "text": [
      "Requirement already satisfied: pmdarima in c:\\users\\swapnil_ranjan\\anaconda3\\lib\\site-packages (1.8.5)\n",
      "Requirement already satisfied: setuptools!=50.0.0,>=38.6.0 in c:\\users\\swapnil_ranjan\\anaconda3\\lib\\site-packages (from pmdarima) (52.0.0.post20210125)\n",
      "Requirement already satisfied: joblib>=0.11 in c:\\users\\swapnil_ranjan\\anaconda3\\lib\\site-packages (from pmdarima) (1.0.1)\n",
      "Requirement already satisfied: numpy>=1.19.3 in c:\\users\\swapnil_ranjan\\anaconda3\\lib\\site-packages (from pmdarima) (1.20.1)\n",
      "Requirement already satisfied: scipy>=1.3.2 in c:\\users\\swapnil_ranjan\\anaconda3\\lib\\site-packages (from pmdarima) (1.6.2)\n",
      "Requirement already satisfied: scikit-learn>=0.22 in c:\\users\\swapnil_ranjan\\anaconda3\\lib\\site-packages (from pmdarima) (0.24.1)\n",
      "Requirement already satisfied: urllib3 in c:\\users\\swapnil_ranjan\\anaconda3\\lib\\site-packages (from pmdarima) (1.26.4)\n",
      "Requirement already satisfied: pandas>=0.19 in c:\\users\\swapnil_ranjan\\anaconda3\\lib\\site-packages (from pmdarima) (1.2.4)\n",
      "Requirement already satisfied: statsmodels!=0.12.0,>=0.11 in c:\\users\\swapnil_ranjan\\anaconda3\\lib\\site-packages (from pmdarima) (0.12.2)\n",
      "Requirement already satisfied: Cython!=0.29.18,>=0.29 in c:\\users\\swapnil_ranjan\\anaconda3\\lib\\site-packages (from pmdarima) (0.29.23)\n",
      "Requirement already satisfied: pytz>=2017.3 in c:\\users\\swapnil_ranjan\\anaconda3\\lib\\site-packages (from pandas>=0.19->pmdarima) (2021.1)\n",
      "Requirement already satisfied: python-dateutil>=2.7.3 in c:\\users\\swapnil_ranjan\\anaconda3\\lib\\site-packages (from pandas>=0.19->pmdarima) (2.8.1)\n",
      "Requirement already satisfied: six>=1.5 in c:\\users\\swapnil_ranjan\\anaconda3\\lib\\site-packages (from python-dateutil>=2.7.3->pandas>=0.19->pmdarima) (1.15.0)\n",
      "Requirement already satisfied: threadpoolctl>=2.0.0 in c:\\users\\swapnil_ranjan\\anaconda3\\lib\\site-packages (from scikit-learn>=0.22->pmdarima) (2.1.0)\n",
      "Requirement already satisfied: patsy>=0.5 in c:\\users\\swapnil_ranjan\\anaconda3\\lib\\site-packages (from statsmodels!=0.12.0,>=0.11->pmdarima) (0.5.1)\n",
      "Note: you may need to restart the kernel to use updated packages.\n"
     ]
    }
   ],
   "source": [
    "# Installing Arima package for creating forecasting model\n",
    "\n",
    "pip install pmdarima"
   ]
  },
  {
   "cell_type": "code",
   "execution_count": 5,
   "id": "21bec0d3",
   "metadata": {},
   "outputs": [],
   "source": [
    "from pmdarima import auto_arima"
   ]
  },
  {
   "cell_type": "code",
   "execution_count": 6,
   "id": "27b30e7a",
   "metadata": {},
   "outputs": [],
   "source": [
    "import warnings\n",
    "warnings.filterwarnings(\"ignore\")"
   ]
  },
  {
   "cell_type": "code",
   "execution_count": 7,
   "id": "9c26b8dd",
   "metadata": {
    "scrolled": true
   },
   "outputs": [
    {
     "name": "stdout",
     "output_type": "stream",
     "text": [
      "Performing stepwise search to minimize aic\n",
      " ARIMA(1,0,1)(0,1,1)[12] intercept   : AIC=inf, Time=4.32 sec\n",
      " ARIMA(0,0,0)(0,1,0)[12] intercept   : AIC=22589.700, Time=0.07 sec\n",
      " ARIMA(1,0,0)(1,1,0)[12] intercept   : AIC=22067.849, Time=0.52 sec\n",
      " ARIMA(0,0,1)(0,1,1)[12] intercept   : AIC=21729.385, Time=3.44 sec\n",
      " ARIMA(0,0,0)(0,1,0)[12]             : AIC=22587.825, Time=0.05 sec\n",
      " ARIMA(0,0,1)(0,1,0)[12] intercept   : AIC=22269.058, Time=0.19 sec\n",
      " ARIMA(0,0,1)(1,1,1)[12] intercept   : AIC=21740.859, Time=3.11 sec\n",
      " ARIMA(0,0,1)(0,1,2)[12] intercept   : AIC=21728.980, Time=7.30 sec\n",
      " ARIMA(0,0,1)(1,1,2)[12] intercept   : AIC=inf, Time=10.89 sec\n",
      " ARIMA(0,0,0)(0,1,2)[12] intercept   : AIC=22098.891, Time=3.55 sec\n",
      " ARIMA(1,0,1)(0,1,2)[12] intercept   : AIC=inf, Time=10.15 sec\n",
      " ARIMA(0,0,2)(0,1,2)[12] intercept   : AIC=inf, Time=9.92 sec\n",
      " ARIMA(1,0,0)(0,1,2)[12] intercept   : AIC=inf, Time=8.90 sec\n",
      " ARIMA(1,0,2)(0,1,2)[12] intercept   : AIC=inf, Time=11.21 sec\n",
      " ARIMA(0,0,1)(0,1,2)[12]             : AIC=21729.840, Time=4.59 sec\n",
      "\n",
      "Best model:  ARIMA(0,0,1)(0,1,2)[12] intercept\n",
      "Total fit time: 78.213 seconds\n"
     ]
    }
   ],
   "source": [
    "# executeing linear regression forward and backward. \n",
    "# process that helps determine which factors are important and which are not\n",
    "# lower the AIC, better the model\n",
    "\n",
    "stepwise_fit = auto_arima(df['Visits'], start_p = 1, start_q = 1,\n",
    "                          max_p = 3, max_q = 3, m = 12,\n",
    "                          start_P = 0, seasonal = True,\n",
    "                          d = None, D = 1, trace = True,\n",
    "                          error_action ='ignore',\n",
    "                          suppress_warnings = True, \n",
    "                          stepwise = True)           "
   ]
  },
  {
   "cell_type": "code",
   "execution_count": 8,
   "id": "9a632fcd",
   "metadata": {},
   "outputs": [
    {
     "data": {
      "text/html": [
       "<table class=\"simpletable\">\n",
       "<caption>SARIMAX Results</caption>\n",
       "<tr>\n",
       "  <th>Dep. Variable:</th>                    <td>y</td>                  <th>  No. Observations:  </th>    <td>1126</td>   \n",
       "</tr>\n",
       "<tr>\n",
       "  <th>Model:</th>           <td>SARIMAX(0, 0, 1)x(0, 1, [1, 2], 12)</td> <th>  Log Likelihood     </th> <td>-10859.490</td>\n",
       "</tr>\n",
       "<tr>\n",
       "  <th>Date:</th>                     <td>Mon, 22 Aug 2022</td>           <th>  AIC                </th>  <td>21728.980</td>\n",
       "</tr>\n",
       "<tr>\n",
       "  <th>Time:</th>                         <td>20:02:50</td>               <th>  BIC                </th>  <td>21754.058</td>\n",
       "</tr>\n",
       "<tr>\n",
       "  <th>Sample:</th>                           <td>0</td>                  <th>  HQIC               </th>  <td>21738.461</td>\n",
       "</tr>\n",
       "<tr>\n",
       "  <th></th>                               <td> - 1126</td>               <th>                     </th>      <td> </td>    \n",
       "</tr>\n",
       "<tr>\n",
       "  <th>Covariance Type:</th>                 <td>opg</td>                 <th>                     </th>      <td> </td>    \n",
       "</tr>\n",
       "</table>\n",
       "<table class=\"simpletable\">\n",
       "<tr>\n",
       "      <td></td>         <th>coef</th>     <th>std err</th>      <th>z</th>      <th>P>|z|</th>  <th>[0.025</th>    <th>0.975]</th>  \n",
       "</tr>\n",
       "<tr>\n",
       "  <th>intercept</th> <td>   45.5100</td> <td>   26.617</td> <td>    1.710</td> <td> 0.087</td> <td>   -6.658</td> <td>   97.678</td>\n",
       "</tr>\n",
       "<tr>\n",
       "  <th>ma.L1</th>     <td>    0.5251</td> <td>    0.020</td> <td>   26.822</td> <td> 0.000</td> <td>    0.487</td> <td>    0.564</td>\n",
       "</tr>\n",
       "<tr>\n",
       "  <th>ma.S.L12</th>  <td>   -0.8108</td> <td>    0.020</td> <td>  -40.601</td> <td> 0.000</td> <td>   -0.850</td> <td>   -0.772</td>\n",
       "</tr>\n",
       "<tr>\n",
       "  <th>ma.S.L24</th>  <td>   -0.0602</td> <td>    0.023</td> <td>   -2.610</td> <td> 0.009</td> <td>   -0.105</td> <td>   -0.015</td>\n",
       "</tr>\n",
       "<tr>\n",
       "  <th>sigma2</th>    <td>   1.7e+07</td> <td>    0.002</td> <td> 9.01e+09</td> <td> 0.000</td> <td>  1.7e+07</td> <td>  1.7e+07</td>\n",
       "</tr>\n",
       "</table>\n",
       "<table class=\"simpletable\">\n",
       "<tr>\n",
       "  <th>Ljung-Box (L1) (Q):</th>     <td>17.24</td> <th>  Jarque-Bera (JB):  </th> <td>8457.90</td>\n",
       "</tr>\n",
       "<tr>\n",
       "  <th>Prob(Q):</th>                <td>0.00</td>  <th>  Prob(JB):          </th>  <td>0.00</td>  \n",
       "</tr>\n",
       "<tr>\n",
       "  <th>Heteroskedasticity (H):</th> <td>1.45</td>  <th>  Skew:              </th>  <td>2.48</td>  \n",
       "</tr>\n",
       "<tr>\n",
       "  <th>Prob(H) (two-sided):</th>    <td>0.00</td>  <th>  Kurtosis:          </th>  <td>15.55</td> \n",
       "</tr>\n",
       "</table><br/><br/>Warnings:<br/>[1] Covariance matrix calculated using the outer product of gradients (complex-step).<br/>[2] Covariance matrix is singular or near-singular, with condition number 8.7e+24. Standard errors may be unstable."
      ],
      "text/plain": [
       "<class 'statsmodels.iolib.summary.Summary'>\n",
       "\"\"\"\n",
       "                                        SARIMAX Results                                        \n",
       "===============================================================================================\n",
       "Dep. Variable:                                       y   No. Observations:                 1126\n",
       "Model:             SARIMAX(0, 0, 1)x(0, 1, [1, 2], 12)   Log Likelihood              -10859.490\n",
       "Date:                                 Mon, 22 Aug 2022   AIC                          21728.980\n",
       "Time:                                         20:02:50   BIC                          21754.058\n",
       "Sample:                                              0   HQIC                         21738.461\n",
       "                                                - 1126                                         \n",
       "Covariance Type:                                   opg                                         \n",
       "==============================================================================\n",
       "                 coef    std err          z      P>|z|      [0.025      0.975]\n",
       "------------------------------------------------------------------------------\n",
       "intercept     45.5100     26.617      1.710      0.087      -6.658      97.678\n",
       "ma.L1          0.5251      0.020     26.822      0.000       0.487       0.564\n",
       "ma.S.L12      -0.8108      0.020    -40.601      0.000      -0.850      -0.772\n",
       "ma.S.L24      -0.0602      0.023     -2.610      0.009      -0.105      -0.015\n",
       "sigma2        1.7e+07      0.002   9.01e+09      0.000     1.7e+07     1.7e+07\n",
       "===================================================================================\n",
       "Ljung-Box (L1) (Q):                  17.24   Jarque-Bera (JB):              8457.90\n",
       "Prob(Q):                              0.00   Prob(JB):                         0.00\n",
       "Heteroskedasticity (H):               1.45   Skew:                             2.48\n",
       "Prob(H) (two-sided):                  0.00   Kurtosis:                        15.55\n",
       "===================================================================================\n",
       "\n",
       "Warnings:\n",
       "[1] Covariance matrix calculated using the outer product of gradients (complex-step).\n",
       "[2] Covariance matrix is singular or near-singular, with condition number 8.7e+24. Standard errors may be unstable.\n",
       "\"\"\""
      ]
     },
     "execution_count": 8,
     "metadata": {},
     "output_type": "execute_result"
    }
   ],
   "source": [
    "# checking the summary\n",
    "\n",
    "stepwise_fit.summary()"
   ]
  },
  {
   "cell_type": "code",
   "execution_count": 9,
   "id": "92b101bb",
   "metadata": {},
   "outputs": [],
   "source": [
    "# dividing dataset into test and train dataset.\n",
    "# Train/Test is a method to measure the accuracy of your model. \n",
    "# It is called Train/Test because you split the the data set into two sets: a training set and a testing set.\n",
    "\n",
    "train = df.iloc[:len(df)-800]\n",
    "test = df.iloc[len(df)-326:]"
   ]
  },
  {
   "cell_type": "code",
   "execution_count": 10,
   "id": "cd54f780",
   "metadata": {},
   "outputs": [],
   "source": [
    "from statsmodels.tsa.statespace.sarimax import SARIMAX"
   ]
  },
  {
   "cell_type": "code",
   "execution_count": 11,
   "id": "c336426a",
   "metadata": {},
   "outputs": [],
   "source": [
    "model = SARIMAX(train['Visits'], \n",
    "                order = (0, 0, 1), \n",
    "                seasonal_order =(0, 1, 2, 12))"
   ]
  },
  {
   "cell_type": "code",
   "execution_count": 12,
   "id": "d412cf8d",
   "metadata": {},
   "outputs": [],
   "source": [
    "result = model.fit()"
   ]
  },
  {
   "cell_type": "code",
   "execution_count": 13,
   "id": "870bb2f0",
   "metadata": {},
   "outputs": [
    {
     "data": {
      "text/html": [
       "<table class=\"simpletable\">\n",
       "<caption>SARIMAX Results</caption>\n",
       "<tr>\n",
       "  <th>Dep. Variable:</th>                 <td>Visits</td>                <th>  No. Observations:  </th>    <td>563</td>   \n",
       "</tr>\n",
       "<tr>\n",
       "  <th>Model:</th>           <td>SARIMAX(0, 0, 1)x(0, 1, [1, 2], 12)</td> <th>  Log Likelihood     </th> <td>-5349.619</td>\n",
       "</tr>\n",
       "<tr>\n",
       "  <th>Date:</th>                     <td>Mon, 22 Aug 2022</td>           <th>  AIC                </th> <td>10707.238</td>\n",
       "</tr>\n",
       "<tr>\n",
       "  <th>Time:</th>                         <td>20:02:52</td>               <th>  BIC                </th> <td>10724.485</td>\n",
       "</tr>\n",
       "<tr>\n",
       "  <th>Sample:</th>                      <td>04-01-2019</td>              <th>  HQIC               </th> <td>10713.978</td>\n",
       "</tr>\n",
       "<tr>\n",
       "  <th></th>                            <td>- 10-14-2020</td>             <th>                     </th>     <td> </td>    \n",
       "</tr>\n",
       "<tr>\n",
       "  <th>Covariance Type:</th>                 <td>opg</td>                 <th>                     </th>     <td> </td>    \n",
       "</tr>\n",
       "</table>\n",
       "<table class=\"simpletable\">\n",
       "<tr>\n",
       "      <td></td>        <th>coef</th>     <th>std err</th>      <th>z</th>      <th>P>|z|</th>  <th>[0.025</th>    <th>0.975]</th>  \n",
       "</tr>\n",
       "<tr>\n",
       "  <th>ma.L1</th>    <td>    0.5795</td> <td>    0.024</td> <td>   23.834</td> <td> 0.000</td> <td>    0.532</td> <td>    0.627</td>\n",
       "</tr>\n",
       "<tr>\n",
       "  <th>ma.S.L12</th> <td>   -0.6164</td> <td>    0.026</td> <td>  -23.888</td> <td> 0.000</td> <td>   -0.667</td> <td>   -0.566</td>\n",
       "</tr>\n",
       "<tr>\n",
       "  <th>ma.S.L24</th> <td>   -0.1702</td> <td>    0.029</td> <td>   -5.872</td> <td> 0.000</td> <td>   -0.227</td> <td>   -0.113</td>\n",
       "</tr>\n",
       "<tr>\n",
       "  <th>sigma2</th>   <td> 1.568e+07</td> <td> 3.77e+05</td> <td>   41.629</td> <td> 0.000</td> <td> 1.49e+07</td> <td> 1.64e+07</td>\n",
       "</tr>\n",
       "</table>\n",
       "<table class=\"simpletable\">\n",
       "<tr>\n",
       "  <th>Ljung-Box (L1) (Q):</th>     <td>12.45</td> <th>  Jarque-Bera (JB):  </th> <td>2809.66</td>\n",
       "</tr>\n",
       "<tr>\n",
       "  <th>Prob(Q):</th>                <td>0.00</td>  <th>  Prob(JB):          </th>  <td>0.00</td>  \n",
       "</tr>\n",
       "<tr>\n",
       "  <th>Heteroskedasticity (H):</th> <td>4.56</td>  <th>  Skew:              </th>  <td>1.52</td>  \n",
       "</tr>\n",
       "<tr>\n",
       "  <th>Prob(H) (two-sided):</th>    <td>0.00</td>  <th>  Kurtosis:          </th>  <td>13.64</td> \n",
       "</tr>\n",
       "</table><br/><br/>Warnings:<br/>[1] Covariance matrix calculated using the outer product of gradients (complex-step)."
      ],
      "text/plain": [
       "<class 'statsmodels.iolib.summary.Summary'>\n",
       "\"\"\"\n",
       "                                        SARIMAX Results                                        \n",
       "===============================================================================================\n",
       "Dep. Variable:                                  Visits   No. Observations:                  563\n",
       "Model:             SARIMAX(0, 0, 1)x(0, 1, [1, 2], 12)   Log Likelihood               -5349.619\n",
       "Date:                                 Mon, 22 Aug 2022   AIC                          10707.238\n",
       "Time:                                         20:02:52   BIC                          10724.485\n",
       "Sample:                                     04-01-2019   HQIC                         10713.978\n",
       "                                          - 10-14-2020                                         \n",
       "Covariance Type:                                   opg                                         \n",
       "==============================================================================\n",
       "                 coef    std err          z      P>|z|      [0.025      0.975]\n",
       "------------------------------------------------------------------------------\n",
       "ma.L1          0.5795      0.024     23.834      0.000       0.532       0.627\n",
       "ma.S.L12      -0.6164      0.026    -23.888      0.000      -0.667      -0.566\n",
       "ma.S.L24      -0.1702      0.029     -5.872      0.000      -0.227      -0.113\n",
       "sigma2      1.568e+07   3.77e+05     41.629      0.000    1.49e+07    1.64e+07\n",
       "===================================================================================\n",
       "Ljung-Box (L1) (Q):                  12.45   Jarque-Bera (JB):              2809.66\n",
       "Prob(Q):                              0.00   Prob(JB):                         0.00\n",
       "Heteroskedasticity (H):               4.56   Skew:                             1.52\n",
       "Prob(H) (two-sided):                  0.00   Kurtosis:                        13.64\n",
       "===================================================================================\n",
       "\n",
       "Warnings:\n",
       "[1] Covariance matrix calculated using the outer product of gradients (complex-step).\n",
       "\"\"\""
      ]
     },
     "execution_count": 13,
     "metadata": {},
     "output_type": "execute_result"
    }
   ],
   "source": [
    "result.summary()"
   ]
  },
  {
   "cell_type": "code",
   "execution_count": 14,
   "id": "aa46b718",
   "metadata": {},
   "outputs": [],
   "source": [
    "start = len(train)\n",
    "end = len(train) + len(test) - 1"
   ]
  },
  {
   "cell_type": "code",
   "execution_count": 15,
   "id": "0645232f",
   "metadata": {},
   "outputs": [],
   "source": [
    "from sklearn.metrics import mean_squared_error\n",
    "from statsmodels.tools.eval_measures import rmse"
   ]
  },
  {
   "cell_type": "code",
   "execution_count": 16,
   "id": "2b285d3d",
   "metadata": {},
   "outputs": [],
   "source": [
    "# ARIMA MODEL\n",
    "model = model = SARIMAX(df['Visits'], \n",
    "                        order = (0, 0, 1), \n",
    "                        seasonal_order =(0, 1, 2, 12))"
   ]
  },
  {
   "cell_type": "code",
   "execution_count": 17,
   "id": "57dde256",
   "metadata": {},
   "outputs": [],
   "source": [
    "result = model.fit()"
   ]
  },
  {
   "cell_type": "code",
   "execution_count": 25,
   "id": "d14e87df",
   "metadata": {},
   "outputs": [],
   "source": [
    "forecast = result.predict(start = len(df), \n",
    "                          end = (len(df)-1) + 12 * 6, \n",
    "                          typ = 'levels').rename('Forecast')"
   ]
  },
  {
   "cell_type": "code",
   "execution_count": 26,
   "id": "b1a117b0",
   "metadata": {},
   "outputs": [
    {
     "data": {
      "text/plain": [
       "<AxesSubplot:xlabel='day'>"
      ]
     },
     "execution_count": 26,
     "metadata": {},
     "output_type": "execute_result"
    },
    {
     "data": {
      "image/png": "[encoded data removed]",
      "text/plain": [
       "<Figure size 1296x360 with 1 Axes>"
      ]
     },
     "metadata": {
      "needs_background": "light"
     },
     "output_type": "display_data"
    }
   ],
   "source": [
    "df['Visits'].plot(figsize = (18, 5), legend = True)\n",
    "forecast.plot(legend = True)"
   ]
  },
  {
   "cell_type": "code",
   "execution_count": 27,
   "id": "88ae3c32",
   "metadata": {},
   "outputs": [
    {
     "data": {
      "text/plain": [
       "2022-05-01     9856.451319\n",
       "2022-05-02    11871.687896\n",
       "2022-05-03    17229.269351\n",
       "2022-05-04    13169.225699\n",
       "2022-05-05    11628.532992\n",
       "                  ...     \n",
       "2022-07-07    12802.021101\n",
       "2022-07-08    12257.497513\n",
       "2022-07-09    12394.759766\n",
       "2022-07-10    11598.632452\n",
       "2022-07-11    11187.139742\n",
       "Freq: D, Name: Forecast, Length: 72, dtype: float64"
      ]
     },
     "execution_count": 27,
     "metadata": {},
     "output_type": "execute_result"
    }
   ],
   "source": [
    "forecast"
   ]
  },
  {
   "cell_type": "code",
   "execution_count": null,
   "id": "f084504a",
   "metadata": {},
   "outputs": [],
   "source": []
  }
 ],
 "metadata": {
  "kernelspec": {
   "display_name": "Python 3",
   "language": "python",
   "name": "python3"
  },
  "language_info": {
   "codemirror_mode": {
    "name": "ipython",
    "version": 3
   },
   "file_extension": ".py",
   "mimetype": "text/x-python",
   "name": "python",
   "nbconvert_exporter": "python",
   "pygments_lexer": "ipython3",
   "version": "3.8.8"
  }
 },
 "nbformat": 4,
 "nbformat_minor": 5
}
